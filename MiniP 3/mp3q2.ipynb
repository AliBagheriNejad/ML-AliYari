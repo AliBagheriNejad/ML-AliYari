{
  "nbformat": 4,
  "nbformat_minor": 0,
  "metadata": {
    "colab": {
      "provenance": [],
      "collapsed_sections": [
        "4c8RdAnI9-PI"
      ]
    },
    "kernelspec": {
      "name": "python3",
      "display_name": "Python 3"
    },
    "language_info": {
      "name": "python"
    }
  },
  "cells": [
    {
      "cell_type": "code",
      "source": [
        "! pip install gensvm"
      ],
      "metadata": {
        "colab": {
          "base_uri": "https://localhost:8080/"
        },
        "id": "VbhK7vJc-EYx",
        "outputId": "a5d3187f-5e00-4824-f3e3-9b716a7661a1"
      },
      "execution_count": 1,
      "outputs": [
        {
          "output_type": "stream",
          "name": "stdout",
          "text": [
            "Collecting gensvm\n",
            "  Downloading gensvm-0.2.7.tar.gz (179 kB)\n",
            "\u001b[2K     \u001b[90m━━━━━━━━━━━━━━━━━━━━━━━━━━━━━━━━━━━━━━━━\u001b[0m \u001b[32m179.0/179.0 kB\u001b[0m \u001b[31m3.3 MB/s\u001b[0m eta \u001b[36m0:00:00\u001b[0m\n",
            "\u001b[?25h  Preparing metadata (setup.py) ... \u001b[?25l\u001b[?25hdone\n",
            "Requirement already satisfied: scikit-learn in /usr/local/lib/python3.10/dist-packages (from gensvm) (1.2.2)\n",
            "Requirement already satisfied: numpy in /usr/local/lib/python3.10/dist-packages (from gensvm) (1.25.2)\n",
            "Requirement already satisfied: scipy>=1.3.2 in /usr/local/lib/python3.10/dist-packages (from scikit-learn->gensvm) (1.11.4)\n",
            "Requirement already satisfied: joblib>=1.1.1 in /usr/local/lib/python3.10/dist-packages (from scikit-learn->gensvm) (1.4.2)\n",
            "Requirement already satisfied: threadpoolctl>=2.0.0 in /usr/local/lib/python3.10/dist-packages (from scikit-learn->gensvm) (3.5.0)\n",
            "Building wheels for collected packages: gensvm\n",
            "  Building wheel for gensvm (setup.py) ... \u001b[?25l\u001b[?25hdone\n",
            "  Created wheel for gensvm: filename=gensvm-0.2.7-cp310-cp310-linux_x86_64.whl size=347661 sha256=38225fe69f2ce7a35d92e248005c2a0413ba4becbc6ef482d1a0b6a6b3330a4a\n",
            "  Stored in directory: /root/.cache/pip/wheels/0f/d5/a8/73572f13bd63eb5b1765afe06e570a22bd4d4c8892cd305e97\n",
            "Successfully built gensvm\n",
            "Installing collected packages: gensvm\n",
            "Successfully installed gensvm-0.2.7\n"
          ]
        }
      ]
    },
    {
      "cell_type": "code",
      "source": [
        "!pip install scikit-learn==1.0.2"
      ],
      "metadata": {
        "colab": {
          "base_uri": "https://localhost:8080/"
        },
        "id": "R_MdX7lE_eUn",
        "outputId": "339ab52f-3b2f-47c6-867c-967917e21a36"
      },
      "execution_count": 2,
      "outputs": [
        {
          "output_type": "stream",
          "name": "stdout",
          "text": [
            "Collecting scikit-learn==1.0.2\n",
            "  Downloading scikit_learn-1.0.2-cp310-cp310-manylinux_2_17_x86_64.manylinux2014_x86_64.whl (26.5 MB)\n",
            "\u001b[2K     \u001b[90m━━━━━━━━━━━━━━━━━━━━━━━━━━━━━━━━━━━━━━━━\u001b[0m \u001b[32m26.5/26.5 MB\u001b[0m \u001b[31m35.8 MB/s\u001b[0m eta \u001b[36m0:00:00\u001b[0m\n",
            "\u001b[?25hRequirement already satisfied: numpy>=1.14.6 in /usr/local/lib/python3.10/dist-packages (from scikit-learn==1.0.2) (1.25.2)\n",
            "Requirement already satisfied: scipy>=1.1.0 in /usr/local/lib/python3.10/dist-packages (from scikit-learn==1.0.2) (1.11.4)\n",
            "Requirement already satisfied: joblib>=0.11 in /usr/local/lib/python3.10/dist-packages (from scikit-learn==1.0.2) (1.4.2)\n",
            "Requirement already satisfied: threadpoolctl>=2.0.0 in /usr/local/lib/python3.10/dist-packages (from scikit-learn==1.0.2) (3.5.0)\n",
            "Installing collected packages: scikit-learn\n",
            "  Attempting uninstall: scikit-learn\n",
            "    Found existing installation: scikit-learn 1.2.2\n",
            "    Uninstalling scikit-learn-1.2.2:\n",
            "      Successfully uninstalled scikit-learn-1.2.2\n",
            "\u001b[31mERROR: pip's dependency resolver does not currently take into account all the packages that are installed. This behaviour is the source of the following dependency conflicts.\n",
            "bigframes 1.8.0 requires scikit-learn>=1.2.2, but you have scikit-learn 1.0.2 which is incompatible.\u001b[0m\u001b[31m\n",
            "\u001b[0mSuccessfully installed scikit-learn-1.0.2\n"
          ]
        }
      ]
    },
    {
      "cell_type": "code",
      "execution_count": 37,
      "metadata": {
        "id": "nXZWO5iC8ZPa"
      },
      "outputs": [],
      "source": [
        "import numpy as np\n",
        "import matplotlib.pyplot as plt\n",
        "from scipy.linalg import solve\n",
        "from gensvm import GenSVM\n",
        "import seaborn as sns\n",
        "\n",
        "%matplotlib inline"
      ]
    },
    {
      "cell_type": "markdown",
      "source": [
        "## Loading input data"
      ],
      "metadata": {
        "id": "9ypBPqeh8yQd"
      }
    },
    {
      "cell_type": "code",
      "source": [
        "from sklearn.datasets import load_iris, make_classification\n",
        "from sklearn.decomposition import PCA\n",
        "from sklearn.model_selection import train_test_split\n",
        "from sklearn.preprocessing import StandardScaler"
      ],
      "metadata": {
        "id": "i5iH8LD38k-x"
      },
      "execution_count": 17,
      "outputs": []
    },
    {
      "cell_type": "code",
      "source": [
        "# Load the Iris dataset\n",
        "iris = load_iris()\n",
        "\n",
        "# Select only two classes (classes 1 and 2) and encode labels\n",
        "Xtrain = iris.data\n",
        "Ttrain = iris.target\n",
        "\n",
        "# Split the data into training and test sets\n",
        "x_train, x_test, y_train, y_test = train_test_split(Xtrain, Ttrain, test_size=0.1, random_state=54, shuffle=True)\n",
        "\n",
        "# Normalizaing the data\n",
        "scaler = StandardScaler()\n",
        "x_train = scaler.fit_transform(x_train)\n",
        "x_test = scaler.transform(x_test)"
      ],
      "metadata": {
        "id": "TRpJudww80pU"
      },
      "execution_count": 18,
      "outputs": []
    },
    {
      "cell_type": "markdown",
      "source": [
        "## Train and test model"
      ],
      "metadata": {
        "id": "5YcvIQWURFMJ"
      }
    },
    {
      "cell_type": "code",
      "source": [
        "from sklearn.model_selection import GridSearchCV\n",
        "from sklearn.metrics import roc_curve, roc_auc_score"
      ],
      "metadata": {
        "id": "ZgjQGcJ-ROrI"
      },
      "execution_count": 47,
      "outputs": []
    },
    {
      "cell_type": "code",
      "source": [
        "# Define parameter grid for Grid Search\n",
        "param_grid = {\n",
        "    'p': [1,2],\n",
        "    'kappa' : [0,1,5,10],\n",
        "    'coef':[0.1,1,10,100]\n",
        "}\n",
        "\n",
        "# Initialize Grid Search with cross-validation\n",
        "grid_search = GridSearchCV(GenSVM(), param_grid, cv=10)\n",
        "grid_search.fit(x_train, y_train)\n"
      ],
      "metadata": {
        "id": "3YL6VmG5BlQ8"
      },
      "execution_count": null,
      "outputs": []
    },
    {
      "cell_type": "code",
      "source": [
        "# Print best parameters and best score\n",
        "print(\"Best parameters found:\", grid_search.best_params_)\n",
        "print(f\"Best cross-validation score: {grid_search.best_score_:.2f}\" )\n",
        "model = grid_search.best_estimator_\n",
        "accuracy = model.score(x_test,y_test)\n",
        "print(f'Accuracy of best parameters on Test data: {accuracy*100:.2f}')"
      ],
      "metadata": {
        "colab": {
          "base_uri": "https://localhost:8080/"
        },
        "id": "HcpVq3OCW6yb",
        "outputId": "0bc785ae-6afe-44e3-ff6e-6f992b5c8de5"
      },
      "execution_count": 26,
      "outputs": [
        {
          "output_type": "stream",
          "name": "stdout",
          "text": [
            "Best parameters found: {'coef': 10, 'kappa': 1, 'p': 2}\n",
            "Best cross-validation score: 0.99\n",
            "Accuracy of best parameters on Test data: 100.00\n"
          ]
        }
      ]
    },
    {
      "cell_type": "code",
      "source": [
        "from sklearn.metrics import confusion_matrix, classification_report"
      ],
      "metadata": {
        "id": "UeWKu9oNYrvn"
      },
      "execution_count": 31,
      "outputs": []
    },
    {
      "cell_type": "code",
      "source": [
        "y_hat= model.predict(x_test)\n",
        "cm = confusion_matrix(y_test, y_hat)\n",
        "cm = cm/np.sum(cm, axis=1).reshape(-1,1)\n",
        "print('Classification report for Test data:\\n',classification_report(y_test, y_hat, target_names=iris.target_names))"
      ],
      "metadata": {
        "colab": {
          "base_uri": "https://localhost:8080/"
        },
        "id": "005h92v2ZIRR",
        "outputId": "76dcda8b-7286-48b4-fa52-f8b0bc4b6961"
      },
      "execution_count": 36,
      "outputs": [
        {
          "output_type": "stream",
          "name": "stdout",
          "text": [
            "Classification report for Test data:\n",
            "               precision    recall  f1-score   support\n",
            "\n",
            "      setosa       1.00      1.00      1.00         5\n",
            "  versicolor       1.00      1.00      1.00         5\n",
            "   virginica       1.00      1.00      1.00         5\n",
            "\n",
            "    accuracy                           1.00        15\n",
            "   macro avg       1.00      1.00      1.00        15\n",
            "weighted avg       1.00      1.00      1.00        15\n",
            "\n"
          ]
        }
      ]
    },
    {
      "cell_type": "code",
      "source": [
        "# Plotting confusion matrix\n",
        "sns.heatmap(cm, annot=True, cmap='cool', fmt='.1f');\n",
        "plt.xticks(np.array(range(0,3)).astype('float32')+0.5, range(1,4));\n",
        "plt.yticks(np.array(range(0,3)).astype('float32')+0.5, range(1,4), rotation=0);\n",
        "plt.xlabel('Predicted')\n",
        "plt.ylabel('True Gound')\n",
        "plt.title('Confusion Matrix for Test data')"
      ],
      "metadata": {
        "colab": {
          "base_uri": "https://localhost:8080/",
          "height": 489
        },
        "id": "shdYFLT8Z11T",
        "outputId": "e935c46d-2a9c-4489-bd90-905c477903eb"
      },
      "execution_count": 46,
      "outputs": [
        {
          "output_type": "execute_result",
          "data": {
            "text/plain": [
              "Text(0.5, 1.0, 'Confusion Matrix for Test data')"
            ]
          },
          "metadata": {},
          "execution_count": 46
        },
        {
          "output_type": "display_data",
          "data": {
            "text/plain": [
              "<Figure size 640x480 with 2 Axes>"
            ],
            "image/png": "[encoded data removed]"
          },
          "metadata": {}
        }
      ]
    },
    {
      "cell_type": "markdown",
      "source": [
        "## useless"
      ],
      "metadata": {
        "id": "4c8RdAnI9-PI"
      }
    },
    {
      "cell_type": "code",
      "source": [
        "# x_train.shape"
      ],
      "metadata": {
        "colab": {
          "base_uri": "https://localhost:8080/"
        },
        "id": "kp4uYsLN-xgM",
        "outputId": "c11b581b-048a-4b85-cc8f-42a652009b8a"
      },
      "execution_count": null,
      "outputs": [
        {
          "output_type": "execute_result",
          "data": {
            "text/plain": [
              "(800, 3)"
            ]
          },
          "metadata": {},
          "execution_count": 215
        }
      ]
    },
    {
      "cell_type": "code",
      "source": [
        "def l_msvm(y, n, H, W, lmd=0.0001 , ro=1, **kwarg):\n",
        "\n",
        "    loss_main = 0\n",
        "    c_idx,clses = find_class(y)\n",
        "    for i in range(k):\n",
        "\n",
        "        Hh = H[:,:,c_idx[i]]\n",
        "        for j in range(Hh.shape[2]):\n",
        "\n",
        "            h = 0\n",
        "            for l in range(k):\n",
        "\n",
        "                if l != i:\n",
        "                    h +=  Hh[i,l,0,j]**p\n",
        "            h = h**(1/p)\n",
        "        h = ro*h\n",
        "        loss_main += h\n",
        "    loss_reg = np.trace(np.dot(W.T,W))*lmd\n",
        "    loss_total = loss_main + loss_reg\n",
        "    return loss_total\n",
        "\n",
        "\n",
        "def find_class(label):\n",
        "\n",
        "    unique = np.unique(label)\n",
        "    idxs = []\n",
        "    for i,u in enumerate(unique):\n",
        "\n",
        "        idx = np.where(label==u)\n",
        "        idxs.append(idx)\n",
        "    return idxs, unique\n",
        "\n",
        "\n",
        "\n",
        "def compute_ab(x_bar,p,k):\n",
        "\n",
        "    c = (p+k-1)/(p-2)\n",
        "    k12 = (k+1)/2\n",
        "    xbark12 = 1 - x_bar - k12\n",
        "    f19 = 1/4 * p * (2*p-1) * k12**(p-2)\n",
        "    f22 = 1/4 * p**2 * xbark12**(p-2)\n",
        "    f23 = 1/4 * p**2 * (p/(p-2) * xbark12)**(p-2)\n",
        "    if x_bar>1 and p == 2:\n",
        "        a = f19\n",
        "        b = a*x_bar\n",
        "    elif x_bar>1 and p != 2:\n",
        "        a = f23\n",
        "        b = a * ((p*x_bar+k-1)/(p-2)) + 1/2 * p *(p/(p-2)*(xbark12))**(p-1)\n",
        "    elif x_bar > -k and x_bar<= 1:\n",
        "        a = f19\n",
        "        b = a*x_bar + p/(1-x_bar) * ((1-x_bar)/np.sqrt(2*(k+1)))**(2*p)\n",
        "    elif x_bar > c and x_bar <= k:\n",
        "        a = f19\n",
        "        b = a*x_bar + 1/2 * p * (xbark12)**(p-1)\n",
        "    elif x_bar <= c:\n",
        "        a = f22\n",
        "        b = a*x_bar + 1/2 * p * (xbark12)**(p-1)\n",
        "    return a,b\n",
        "\n"
      ],
      "metadata": {
        "id": "44foI2vgbi_f"
      },
      "execution_count": null,
      "outputs": []
    },
    {
      "cell_type": "code",
      "source": [
        "# X = x_train\n",
        "# y = y_train\n",
        "# kappa = 5\n",
        "# p = 2\n",
        "# ro = 1 # CORRECT THIS PAGE 8 OF THE ARTICLE\n",
        "# lmd = 0.1\n",
        "# eps = 0.001\n",
        "\n",
        "# # Initialization\n",
        "# np.random.seed(54)\n",
        "# m = X.shape[1] # Number of features\n",
        "# k = len(np.unique(y)) # Number of classes\n",
        "# n = X.shape[0] # Number of samples\n",
        "# W = np.random.rand(m,k-1)\n",
        "# K = y\n",
        "# t = 1\n",
        "# Z = np.hstack((np.ones(shape=(X.shape[0],1)), X))\n",
        "# T = np.random.rand(W.shape[1],1)\n",
        "# V_0 = np.hstack((T,W.T)).T\n",
        "# V_bar = V_0.copy()\n",
        "# V = V_bar.copy()\n",
        "# J = np.identity(m+1)\n",
        "# J[0,0] = 0\n",
        "# Uk = np.zeros(shape=(k, k-1))\n",
        "# for i in range(k):\n",
        "\n",
        "#     for j in range(k-1):\n",
        "\n",
        "#         if i <= j:\n",
        "#             Uk[i, j] = -np.sqrt(1 / np.sqrt(2*(j**2+1)))\n",
        "#         if i == j + 1:\n",
        "#             Uk[i, j] = np.sqrt(1 / np.sqrt(2*(j**2+1)))\n",
        "\n",
        "# S = np.dot(X,W) + T.T\n",
        "# delta = np.zeros(shape=(k-1,k-1,n))\n",
        "# Q = np.zeros(shape=(k,k,n))\n",
        "# H = np.zeros(shape=(k,k,n))\n",
        "# for s in range(n):\n",
        "\n",
        "#     for i in range(k):\n",
        "\n",
        "#         uu = 0\n",
        "#         for j in range(k):\n",
        "\n",
        "#            if i != j:\n",
        "\n",
        "#                 u = Uk[i,:] - Uk[j,:]\n",
        "#                 delta[uu,:,s] = u\n",
        "#                 uu += 1\n",
        "#                 ss = S[s,:]\n",
        "#                 projection = np.dot(ss, u) / np.dot(u, u) * u\n",
        "#                 perpendicular = ss - projection\n",
        "#                 Q[i,j,s] = np.linalg.norm(perpendicular)\n",
        "#                 if Q[i,j,s] <= -kappa:\n",
        "#                     H[i,j,s] = 1 - Q[i,j,s] - (kappa+1)/2\n",
        "#                 elif Q[i,j,s] > -kappa and Q[i,j,s] <= 1:\n",
        "#                     H[i,j,s] = 1/(2*(kappa+1)) * (1-Q[i,j,s]**2)\n",
        "# HH = H.copy()\n",
        "# L_t = l_msvm(y,n,H,W,k=k,p=p)\n",
        "# L_t1 = (1+2*eps) * L_t\n",
        "# while (L_t1 - L_t)/L_t > eps:\n",
        "# # for _ in range(3):\n",
        "\n",
        "#     A = np.zeros(shape=(n,n))\n",
        "#     B = np.zeros(shape=(n,k-1))\n",
        "#     H_bar = np.zeros_like(H)\n",
        "#     for i in range(n):\n",
        "#         q_bar = Z[i,:].dot(V_bar).dot(delta[:,:,i])\n",
        "#         h_bar = np.zeros_like(q_bar)\n",
        "#         for ii in range(len(q_bar)):\n",
        "\n",
        "#             if q_bar[ii] <= -kappa:\n",
        "#                 h_bar[ii] = 1 - q_bar[ii] - (kappa+1)/2\n",
        "#             elif q_bar[ii] > -kappa and q_bar[ii] <= 1:\n",
        "#                 h_bar[ii] = 1/(2*(kappa+1)) * (1-q_bar[ii]**2)\n",
        "#         ep = 1 if sum(h_bar != 0) <=1 else 0\n",
        "#         x_bar = np.mean(Z[i,:])\n",
        "#         a = np.zeros_like(h_bar)\n",
        "#         b = np.zeros_like(h_bar)\n",
        "#         if ep == 1:\n",
        "#             for iii,x_bar in enumerate(h_bar):\n",
        "#                 a_i,b_i = compute_ab(x_bar,p=1,k=kappa)\n",
        "#                 a[iii] = a_i\n",
        "#                 b[iii] = b_i\n",
        "#         else:\n",
        "\n",
        "#             omega = 1/p * np.sum(h_bar**p)**(1/(p-1))\n",
        "#             for iii,x_bar in enumerate(h_bar):\n",
        "#                 a_i,b_i = compute_ab(x_bar,p=1,k=kappa)\n",
        "#                 a[iii] = a_i\n",
        "#                 b[iii] = b_i\n",
        "#         alpha = 1/n*ro*np.sum(ep*(a) + (1-ep)*omega*a)\n",
        "#         beta = 1/n*ro*(ep*(b-a*q_bar) + (1-ep)*omega*(b-a*q_bar)).dot(delta[:,:,i].T)\n",
        "#         A[i,i] = alpha\n",
        "#         B[i,:] = beta\n",
        "\n",
        "#     M_l = Z.T.dot(A).dot(Z) + lmd*J\n",
        "#     M_r = Z.T.dot(A).dot(Z).dot(V_bar) + Z.T.dot(B)\n",
        "#     V_new = solve(M_l,M_r)\n",
        "#     V_bar = V.copy()\n",
        "#     V = V_new.copy()\n",
        "#     W = V_new[1:,:].copy().T\n",
        "#     W = W.T\n",
        "#     L_t1 = L_t\n",
        "#     L_t = l_msvm(y,n,H,W,k=k,p=p)\n",
        "#     t = t+1\n",
        "\n",
        "\n",
        "\n",
        "\n"
      ],
      "metadata": {
        "id": "hhoOWunv9hNc"
      },
      "execution_count": 28,
      "outputs": []
    },
    {
      "cell_type": "code",
      "source": [
        "# X = x_train\n",
        "# y = y_train\n",
        "# kappa = 5\n",
        "# p = 2\n",
        "# ro = 1 # CORRECT THIS PAGE 8 OF THE ARTICLE\n",
        "# lmd = 0.1\n",
        "# eps = 0.001\n",
        "\n",
        "# # Initialization\n",
        "# np.random.seed(54)\n",
        "# m = X.shape[1] # Number of features\n",
        "# k = len(np.unique(y)) # Number of classes\n",
        "# n = X.shape[0] # Number of samples\n",
        "# W = np.random.rand(m,k-1)\n",
        "# K = y\n",
        "# t = 1\n",
        "# Z = np.hstack((np.ones(shape=(X.shape[0],1)), X))\n",
        "# Z = Z.T\n",
        "# T = np.random.rand(1,W.shape[1])\n",
        "# V_0 = np.vstack((T,W))\n",
        "# V_bar = V_0.copy()\n",
        "# V = V_bar.copy()\n",
        "# J = np.identity(m+1)\n",
        "# J[0,0] = 0\n",
        "# Uk = np.zeros(shape=(k, k-1))\n",
        "# for i in range(k):\n",
        "\n",
        "#     for j in range(k-1):\n",
        "\n",
        "#         if i <= j:\n",
        "#             Uk[i, j] = -np.sqrt(1 / np.sqrt(2*(j**2+1)))\n",
        "#         if i == j + 1:\n",
        "#             Uk[i, j] = np.sqrt(1 / np.sqrt(2*(j**2+1)))\n",
        "\n",
        "# S = np.dot(X,W) + T.T\n",
        "# delta = np.zeros(shape=(k-1,k-1,n))\n",
        "# Q = np.zeros(shape=(k,k,n))\n",
        "# H = np.zeros(shape=(k,k,n))\n",
        "# for s in range(n):\n",
        "\n",
        "#     for i in range(k):\n",
        "\n",
        "#         uu = 0\n",
        "#         for j in range(k):\n",
        "\n",
        "#            if i != j:\n",
        "\n",
        "#                 u = Uk[i,:] - Uk[j,:]\n",
        "#                 delta[uu,:,s] = u\n",
        "#                 uu += 1\n",
        "#                 ss = S[s,:]\n",
        "#                 projection = np.dot(ss, u) / np.dot(u, u) * u\n",
        "#                 perpendicular = ss - projection\n",
        "#                 Q[i,j,s] = np.linalg.norm(perpendicular)\n",
        "#                 if Q[i,j,s] <= -kappa:\n",
        "#                     H[i,j,s] = 1 - Q[i,j,s] - (kappa+1)/2\n",
        "#                 elif Q[i,j,s] > -kappa and Q[i,j,s] <= 1:\n",
        "#                     H[i,j,s] = 1/(2*(kappa+1)) * (1-Q[i,j,s]**2)\n",
        "# HH = H.copy()\n",
        "# L_t = l_msvm(y,n,H,W,k=k,p=p)\n",
        "# L_t1 = (1+2*eps) * L_t\n",
        "# while (L_t1 - L_t)/L_t > eps:\n",
        "# # for _ in range(3):\n",
        "\n",
        "#     A = np.zeros(shape=(n,n))\n",
        "#     B = np.zeros(shape=(n,k-1))\n",
        "#     H_bar = np.zeros_like(H)\n",
        "#     for i in range(n):\n",
        "#         q_bar = Z[i,:].dot(V_bar).dot(delta[:,:,i])\n",
        "#         h_bar = np.zeros_like(q_bar)\n",
        "#         for ii in range(len(q_bar)):\n",
        "\n",
        "#             if q_bar[ii] <= -kappa:\n",
        "#                 h_bar[ii] = 1 - q_bar[ii] - (kappa+1)/2\n",
        "#             elif q_bar[ii] > -kappa and q_bar[ii] <= 1:\n",
        "#                 h_bar[ii] = 1/(2*(kappa+1)) * (1-q_bar[ii]**2)\n",
        "#         ep = 1 if sum(h_bar != 0) <=1 else 0\n",
        "#         x_bar = np.mean(Z[i,:])\n",
        "#         a = np.zeros_like(h_bar)\n",
        "#         b = np.zeros_like(h_bar)\n",
        "#         if ep == 1:\n",
        "#             for iii,x_bar in enumerate(h_bar):\n",
        "#                 a_i,b_i = compute_ab(x_bar,p=1,k=kappa)\n",
        "#                 a[iii] = a_i\n",
        "#                 b[iii] = b_i\n",
        "#         else:\n",
        "\n",
        "#             omega = 1/p * np.sum(h_bar**p)**(1/(p-1))\n",
        "#             for iii,x_bar in enumerate(h_bar):\n",
        "#                 a_i,b_i = compute_ab(x_bar,p=1,k=kappa)\n",
        "#                 a[iii] = a_i\n",
        "#                 b[iii] = b_i\n",
        "#         alpha = 1/n*ro*np.sum(ep*(a) + (1-ep)*omega*a)\n",
        "#         beta = 1/n*ro*(ep*(b-a*q_bar) + (1-ep)*omega*(b-a*q_bar)).dot(delta[:,:,i].T)\n",
        "#         A[i,i] = alpha\n",
        "#         B[i,:] = beta\n",
        "\n",
        "#     M_l = Z.T.dot(A).dot(Z) + lmd*J\n",
        "#     M_r = Z.T.dot(A).dot(Z).dot(V_bar) + Z.T.dot(B)\n",
        "#     V_new = solve(M_l,M_r)\n",
        "#     V_bar = V.copy()\n",
        "#     V = V_new.copy()\n",
        "#     W = V_new[1:,:].copy().T\n",
        "#     W = W.T\n",
        "#     L_t1 = L_t\n",
        "#     L_t = l_msvm(y,n,H,W,k=k,p=p)\n",
        "#     t = t+1\n",
        "\n",
        "\n",
        "\n",
        "\n"
      ],
      "metadata": {
        "id": "yZarQGdvymwr"
      },
      "execution_count": 29,
      "outputs": []
    },
    {
      "cell_type": "code",
      "source": [
        "# new = Z.dot(V)"
      ],
      "metadata": {
        "id": "xVrhLCo-yFOC"
      },
      "execution_count": null,
      "outputs": []
    },
    {
      "cell_type": "code",
      "source": [
        "# print((800,3))\n",
        "# print((800,2))\n",
        "# print('4 classes,  2 features')\n",
        "\n",
        "# print(new.shape)\n",
        "# print(x_train.shape)\n",
        "# print('3 classes, 2 features')"
      ],
      "metadata": {
        "colab": {
          "base_uri": "https://localhost:8080/"
        },
        "id": "GRIzXV2PKWn5",
        "outputId": "1fcd9e92-08d5-47cf-f39b-06bab9ba6f32"
      },
      "execution_count": null,
      "outputs": [
        {
          "output_type": "stream",
          "name": "stdout",
          "text": [
            "(800, 3)\n",
            "(800, 2)\n",
            "4 classes,  2 features\n",
            "(120, 2)\n",
            "(120, 2)\n",
            "3 classes, 2 features\n"
          ]
        }
      ]
    },
    {
      "cell_type": "code",
      "source": [
        "# plt.scatter(new[:,0], new[:,1], c=y_train)\n",
        "# plt.figure()\n",
        "# plt.scatter(x_train[:,0],x_train[:,1], c=y_train)"
      ],
      "metadata": {
        "colab": {
          "base_uri": "https://localhost:8080/",
          "height": 863
        },
        "id": "iZSDSy8lxKDh",
        "outputId": "01eeb223-0d1c-4c06-ddd8-857df4105bd9"
      },
      "execution_count": null,
      "outputs": [
        {
          "output_type": "execute_result",
          "data": {
            "text/plain": [
              "<matplotlib.collections.PathCollection at 0x7e02060191e0>"
            ]
          },
          "metadata": {},
          "execution_count": 277
        },
        {
          "output_type": "display_data",
          "data": {
            "text/plain": [
              "<Figure size 640x480 with 1 Axes>"
            ],
            "image/png": "[encoded data removed]"
          },
          "metadata": {}
        },
        {
          "output_type": "display_data",
          "data": {
            "text/plain": [
              "<Figure size 640x480 with 1 Axes>"
            ],
            "image/png": "[encoded data removed]"
          },
          "metadata": {}
        }
      ]
    }
  ]
}