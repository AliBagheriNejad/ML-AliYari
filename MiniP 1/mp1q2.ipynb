{
  "cells": [
    {
      "cell_type": "code",
      "execution_count": null,
      "metadata": {
        "id": "yYW05qIexICn"
      },
      "outputs": [],
      "source": [
        "import numpy as np\n",
        "import matplotlib.pyplot as plt\n",
        "import os\n",
        "import pandas as pd\n",
        "from IPython.display import clear_output"
      ]
    },
    {
      "cell_type": "markdown",
      "metadata": {
        "id": "HX5XF_6cz06F"
      },
      "source": [
        "## 2-1: Dataset"
      ]
    },
    {
      "cell_type": "code",
      "execution_count": null,
      "metadata": {
        "colab": {
          "base_uri": "https://localhost:8080/",
          "height": 36
        },
        "id": "rmj9Tgy2xe_D",
        "outputId": "a2fd2af9-f4a3-428d-bf86-83be858d8fdf"
      },
      "outputs": [
        {
          "output_type": "execute_result",
          "data": {
            "text/plain": [
              "'I choose dataset number 2'"
            ],
            "application/vnd.google.colaboratory.intrinsic+json": {
              "type": "string"
            }
          },
          "metadata": {},
          "execution_count": 101
        }
      ],
      "source": [
        "my_ID = 54\n",
        "(f'I choose dataset number {my_ID%4}')"
      ]
    },
    {
      "cell_type": "code",
      "execution_count": null,
      "metadata": {
        "id": "SLiq-C-uxuHP"
      },
      "outputs": [],
      "source": [
        "# Normal dataset\n",
        "!wget -q https://engineering.case.edu/sites/default/files/99.mat\n",
        "# Faulty dataset\n",
        "!wget -q https://engineering.case.edu/sites/default/files/107.mat"
      ]
    },
    {
      "cell_type": "markdown",
      "metadata": {
        "id": "ipcSxF9o0Stn"
      },
      "source": [
        "## 2-2: Working with dataset"
      ]
    },
    {
      "cell_type": "code",
      "execution_count": null,
      "metadata": {
        "id": "xLzL8sPLzrxO"
      },
      "outputs": [],
      "source": [
        "from scipy.io import loadmat"
      ]
    },
    {
      "cell_type": "code",
      "execution_count": null,
      "metadata": {
        "id": "AjlcM9V71xYE"
      },
      "outputs": [],
      "source": [
        "# Loading normal data\n",
        "data_n = loadmat('99.mat')\n",
        "cols_n = list(data_n.keys())[-4:]\n",
        "\n",
        "# Loading fault data\n",
        "data_f = loadmat('107.mat')\n",
        "cols_f = list(data_f.keys())[-4:-1]"
      ]
    },
    {
      "cell_type": "code",
      "execution_count": null,
      "metadata": {
        "colab": {
          "base_uri": "https://localhost:8080/"
        },
        "id": "SBwv6jqI17Td",
        "outputId": "ca05e16d-cf66-4f7a-9bbf-b328c22b839a"
      },
      "outputs": [
        {
          "output_type": "stream",
          "name": "stdout",
          "text": [
            "Data in normal dataset is:\n",
            "['X098_DE_time', 'X098_FE_time', 'X099_DE_time', 'X099_FE_time']\n",
            "\n",
            "Data in fault dataset is:\n",
            "['X107_DE_time', 'X107_FE_time', 'X107_BA_time']\n"
          ]
        }
      ],
      "source": [
        "print(f\"Data in normal dataset is:\\n{cols_n}\", end='\\n\\n')\n",
        "print(f'Data in fault dataset is:\\n{cols_f}')"
      ]
    },
    {
      "cell_type": "markdown",
      "metadata": {
        "id": "QxY9ABbR6oil"
      },
      "source": [
        "### 2-2-1: Extracting data"
      ]
    },
    {
      "cell_type": "code",
      "execution_count": null,
      "metadata": {
        "id": "sdhwAt9h5bVw"
      },
      "outputs": [],
      "source": [
        "M = 250\n",
        "N = 200\n",
        "all_cols = np.concatenate((cols_n,cols_f))\n",
        "\n",
        "matrices = dict()\n",
        "for i in range(len(all_cols)):\n",
        "\n",
        "    mat = np.zeros((M,N))\n",
        "    for j in range(M):\n",
        "\n",
        "        try:\n",
        "            mat[j,:] = data_n[all_cols[i]][j:j+N].reshape(-1,)\n",
        "        except:\n",
        "            mat[j,:] = data_f[all_cols[i]][j:j+N].reshape(-1,)\n",
        "    matrices[all_cols[i]] = mat"
      ]
    },
    {
      "cell_type": "code",
      "execution_count": null,
      "metadata": {
        "colab": {
          "base_uri": "https://localhost:8080/"
        },
        "id": "eIf9Fjl07yN2",
        "outputId": "9bdfcf1e-6f57-4c24-8b69-361b2661d26f"
      },
      "outputs": [
        {
          "output_type": "stream",
          "name": "stdout",
          "text": [
            "Class \"X098_DE_time\"'s matrix has the shape of (250, 200)\n",
            "Class \"X098_FE_time\"'s matrix has the shape of (250, 200)\n",
            "Class \"X099_DE_time\"'s matrix has the shape of (250, 200)\n",
            "Class \"X099_FE_time\"'s matrix has the shape of (250, 200)\n",
            "Class \"X107_DE_time\"'s matrix has the shape of (250, 200)\n",
            "Class \"X107_FE_time\"'s matrix has the shape of (250, 200)\n",
            "Class \"X107_BA_time\"'s matrix has the shape of (250, 200)\n"
          ]
        }
      ],
      "source": [
        "for i,col in enumerate(all_cols):\n",
        "\n",
        "    mat_size = matrices[col].shape\n",
        "    print(f'Class \"{col}\"\\'s matrix has the shape of {mat_size}')"
      ]
    },
    {
      "cell_type": "code",
      "execution_count": null,
      "metadata": {
        "id": "M9Zj5MpxBAzT"
      },
      "outputs": [],
      "source": [
        "normal_mat = matrices['X099_DE_time']\n",
        "fault_mat = matrices['X107_DE_time']"
      ]
    },
    {
      "cell_type": "markdown",
      "metadata": {
        "id": "WC0m2I8TDpS-"
      },
      "source": [
        "### 2-2-2: Feature extraction"
      ]
    },
    {
      "cell_type": "code",
      "execution_count": null,
      "metadata": {
        "id": "ZpCHaqB7BPdW"
      },
      "outputs": [],
      "source": [
        "from scipy import stats"
      ]
    },
    {
      "cell_type": "code",
      "execution_count": null,
      "metadata": {
        "id": "FwC1GdFcEuPu"
      },
      "outputs": [],
      "source": [
        "class Features:\n",
        "\n",
        "    def __init__(self,matrix):\n",
        "        self.matrix = matrix\n",
        "        self._extract()\n",
        "\n",
        "    def _extract(self):\n",
        "\n",
        "        self.features = {\n",
        "            'standard deviation': stats.tstd(self.matrix, axis=1),\n",
        "            'peak': np.max(self.matrix, axis=1),\n",
        "            'skewness': stats.skew(self.matrix, axis=1),\n",
        "            'mean': np.mean(self.matrix, axis=1),\n",
        "            'absolute mean': np.mean(np.abs(self.matrix), axis=1),\n",
        "            'root mean square': np.sqrt(np.mean(np.square(self.matrix), axis=1)),\n",
        "            'square root mean': np.square(np.mean(np.sqrt(np.abs(self.matrix)), axis=1)),\n",
        "            'kurtosis': stats.kurtosis(self.matrix, axis=1),\n",
        "            'crest factor': np.max(self.matrix, axis=1) / np.sqrt(np.mean(np.square(self.matrix), axis=1)),\n",
        "            'clearance factor': np.max(self.matrix, axis=1) / np.square(np.mean(np.sqrt(np.abs(self.matrix)), axis=1)),\n",
        "            'peak to peak': np.max(self.matrix, axis=1) - np.min(self.matrix, axis=1),\n",
        "            'shape factor': np.sqrt(np.mean(np.square(self.matrix), axis=1)) / np.mean(np.abs(self.matrix), axis=1),\n",
        "            'impact factor': np.sqrt(np.mean(np.square(self.matrix), axis=1)) / np.mean(np.abs(self.matrix), axis=1),\n",
        "            'impulse factor': np.abs(np.mean(self.matrix, axis=1)) / np.mean(np.abs(self.matrix), axis=1)\n",
        "        }\n",
        "\n",
        "    def __getitem__(self,key):\n",
        "        return self.features[key]\n",
        "\n",
        "\n",
        "normal_features = Features(normal_mat)\n",
        "fault_features = Features(fault_mat)"
      ]
    },
    {
      "cell_type": "code",
      "execution_count": null,
      "metadata": {
        "colab": {
          "base_uri": "https://localhost:8080/",
          "height": 223
        },
        "id": "3n-dZU8n0yga",
        "outputId": "d1271491-10ae-480b-e78d-fd69a9503bb3"
      },
      "outputs": [
        {
          "output_type": "execute_result",
          "data": {
            "text/plain": [
              "   standard deviation      peak  skewness      mean  absolute mean  \\\n",
              "0            0.065162  0.179826 -0.102434  0.016275       0.051197   \n",
              "1            0.065124  0.179826 -0.101089  0.016218       0.051140   \n",
              "2            0.065046  0.179826 -0.095520  0.016050       0.050972   \n",
              "3            0.065087  0.179826 -0.092039  0.015959       0.051063   \n",
              "4            0.065158  0.179826 -0.091184  0.015882       0.051140   \n",
              "\n",
              "   root mean square  square root mean  kurtosis  crest factor  \\\n",
              "0          0.067005          0.041341  0.205579      2.683775   \n",
              "1          0.066955          0.041293  0.211600      2.685784   \n",
              "2          0.066839          0.041131  0.224659      2.690446   \n",
              "3          0.066857          0.041302  0.216531      2.689711   \n",
              "4          0.066907          0.041377  0.205829      2.687688   \n",
              "\n",
              "   clearance factor  peak to peak  shape factor  impact factor  \\\n",
              "0          4.349826      0.355481      1.308760       1.308760   \n",
              "1          4.354910      0.355481      1.309248       1.309248   \n",
              "2          4.371997      0.355481      1.311286       1.311286   \n",
              "3          4.353963      0.355481      1.309313       1.309313   \n",
              "4          4.346023      0.355481      1.308321       1.308321   \n",
              "\n",
              "   impulse factor  label  \n",
              "0        0.317890      0  \n",
              "1        0.317125      0  \n",
              "2        0.314875      0  \n",
              "3        0.312538      0  \n",
              "4        0.310557      0  "
            ],
            "text/html": [
              "\n",
              "  <div id=\"df-a64f0261-5c7b-4a5b-897f-836af16ad185\" class=\"colab-df-container\">\n",
              "    <div>\n",
              "<style scoped>\n",
              "    .dataframe tbody tr th:only-of-type {\n",
              "        vertical-align: middle;\n",
              "    }\n",
              "\n",
              "    .dataframe tbody tr th {\n",
              "        vertical-align: top;\n",
              "    }\n",
              "\n",
              "    .dataframe thead th {\n",
              "        text-align: right;\n",
              "    }\n",
              "</style>\n",
              "<table border=\"1\" class=\"dataframe\">\n",
              "  <thead>\n",
              "    <tr style=\"text-align: right;\">\n",
              "      <th></th>\n",
              "      <th>standard deviation</th>\n",
              "      <th>peak</th>\n",
              "      <th>skewness</th>\n",
              "      <th>mean</th>\n",
              "      <th>absolute mean</th>\n",
              "      <th>root mean square</th>\n",
              "      <th>square root mean</th>\n",
              "      <th>kurtosis</th>\n",
              "      <th>crest factor</th>\n",
              "      <th>clearance factor</th>\n",
              "      <th>peak to peak</th>\n",
              "      <th>shape factor</th>\n",
              "      <th>impact factor</th>\n",
              "      <th>impulse factor</th>\n",
              "      <th>label</th>\n",
              "    </tr>\n",
              "  </thead>\n",
              "  <tbody>\n",
              "    <tr>\n",
              "      <th>0</th>\n",
              "      <td>0.065162</td>\n",
              "      <td>0.179826</td>\n",
              "      <td>-0.102434</td>\n",
              "      <td>0.016275</td>\n",
              "      <td>0.051197</td>\n",
              "      <td>0.067005</td>\n",
              "      <td>0.041341</td>\n",
              "      <td>0.205579</td>\n",
              "      <td>2.683775</td>\n",
              "      <td>4.349826</td>\n",
              "      <td>0.355481</td>\n",
              "      <td>1.308760</td>\n",
              "      <td>1.308760</td>\n",
              "      <td>0.317890</td>\n",
              "      <td>0</td>\n",
              "    </tr>\n",
              "    <tr>\n",
              "      <th>1</th>\n",
              "      <td>0.065124</td>\n",
              "      <td>0.179826</td>\n",
              "      <td>-0.101089</td>\n",
              "      <td>0.016218</td>\n",
              "      <td>0.051140</td>\n",
              "      <td>0.066955</td>\n",
              "      <td>0.041293</td>\n",
              "      <td>0.211600</td>\n",
              "      <td>2.685784</td>\n",
              "      <td>4.354910</td>\n",
              "      <td>0.355481</td>\n",
              "      <td>1.309248</td>\n",
              "      <td>1.309248</td>\n",
              "      <td>0.317125</td>\n",
              "      <td>0</td>\n",
              "    </tr>\n",
              "    <tr>\n",
              "      <th>2</th>\n",
              "      <td>0.065046</td>\n",
              "      <td>0.179826</td>\n",
              "      <td>-0.095520</td>\n",
              "      <td>0.016050</td>\n",
              "      <td>0.050972</td>\n",
              "      <td>0.066839</td>\n",
              "      <td>0.041131</td>\n",
              "      <td>0.224659</td>\n",
              "      <td>2.690446</td>\n",
              "      <td>4.371997</td>\n",
              "      <td>0.355481</td>\n",
              "      <td>1.311286</td>\n",
              "      <td>1.311286</td>\n",
              "      <td>0.314875</td>\n",
              "      <td>0</td>\n",
              "    </tr>\n",
              "    <tr>\n",
              "      <th>3</th>\n",
              "      <td>0.065087</td>\n",
              "      <td>0.179826</td>\n",
              "      <td>-0.092039</td>\n",
              "      <td>0.015959</td>\n",
              "      <td>0.051063</td>\n",
              "      <td>0.066857</td>\n",
              "      <td>0.041302</td>\n",
              "      <td>0.216531</td>\n",
              "      <td>2.689711</td>\n",
              "      <td>4.353963</td>\n",
              "      <td>0.355481</td>\n",
              "      <td>1.309313</td>\n",
              "      <td>1.309313</td>\n",
              "      <td>0.312538</td>\n",
              "      <td>0</td>\n",
              "    </tr>\n",
              "    <tr>\n",
              "      <th>4</th>\n",
              "      <td>0.065158</td>\n",
              "      <td>0.179826</td>\n",
              "      <td>-0.091184</td>\n",
              "      <td>0.015882</td>\n",
              "      <td>0.051140</td>\n",
              "      <td>0.066907</td>\n",
              "      <td>0.041377</td>\n",
              "      <td>0.205829</td>\n",
              "      <td>2.687688</td>\n",
              "      <td>4.346023</td>\n",
              "      <td>0.355481</td>\n",
              "      <td>1.308321</td>\n",
              "      <td>1.308321</td>\n",
              "      <td>0.310557</td>\n",
              "      <td>0</td>\n",
              "    </tr>\n",
              "  </tbody>\n",
              "</table>\n",
              "</div>\n",
              "    <div class=\"colab-df-buttons\">\n",
              "\n",
              "  <div class=\"colab-df-container\">\n",
              "    <button class=\"colab-df-convert\" onclick=\"convertToInteractive('df-a64f0261-5c7b-4a5b-897f-836af16ad185')\"\n",
              "            title=\"Convert this dataframe to an interactive table.\"\n",
              "            style=\"display:none;\">\n",
              "\n",
              "  <svg xmlns=\"http://www.w3.org/2000/svg\" height=\"24px\" viewBox=\"0 -960 960 960\">\n",
              "    <path d=\"M120-120v-720h720v720H120Zm60-500h600v-160H180v160Zm220 220h160v-160H400v160Zm0 220h160v-160H400v160ZM180-400h160v-160H180v160Zm440 0h160v-160H620v160ZM180-180h160v-160H180v160Zm440 0h160v-160H620v160Z\"/>\n",
              "  </svg>\n",
              "    </button>\n",
              "\n",
              "  <style>\n",
              "    .colab-df-container {\n",
              "      display:flex;\n",
              "      gap: 12px;\n",
              "    }\n",
              "\n",
              "    .colab-df-convert {\n",
              "      background-color: #E8F0FE;\n",
              "      border: none;\n",
              "      border-radius: 50%;\n",
              "      cursor: pointer;\n",
              "      display: none;\n",
              "      fill: #1967D2;\n",
              "      height: 32px;\n",
              "      padding: 0 0 0 0;\n",
              "      width: 32px;\n",
              "    }\n",
              "\n",
              "    .colab-df-convert:hover {\n",
              "      background-color: #E2EBFA;\n",
              "      box-shadow: 0px 1px 2px rgba(60, 64, 67, 0.3), 0px 1px 3px 1px rgba(60, 64, 67, 0.15);\n",
              "      fill: #174EA6;\n",
              "    }\n",
              "\n",
              "    .colab-df-buttons div {\n",
              "      margin-bottom: 4px;\n",
              "    }\n",
              "\n",
              "    [theme=dark] .colab-df-convert {\n",
              "      background-color: #3B4455;\n",
              "      fill: #D2E3FC;\n",
              "    }\n",
              "\n",
              "    [theme=dark] .colab-df-convert:hover {\n",
              "      background-color: #434B5C;\n",
              "      box-shadow: 0px 1px 3px 1px rgba(0, 0, 0, 0.15);\n",
              "      filter: drop-shadow(0px 1px 2px rgba(0, 0, 0, 0.3));\n",
              "      fill: #FFFFFF;\n",
              "    }\n",
              "  </style>\n",
              "\n",
              "    <script>\n",
              "      const buttonEl =\n",
              "        document.querySelector('#df-a64f0261-5c7b-4a5b-897f-836af16ad185 button.colab-df-convert');\n",
              "      buttonEl.style.display =\n",
              "        google.colab.kernel.accessAllowed ? 'block' : 'none';\n",
              "\n",
              "      async function convertToInteractive(key) {\n",
              "        const element = document.querySelector('#df-a64f0261-5c7b-4a5b-897f-836af16ad185');\n",
              "        const dataTable =\n",
              "          await google.colab.kernel.invokeFunction('convertToInteractive',\n",
              "                                                    [key], {});\n",
              "        if (!dataTable) return;\n",
              "\n",
              "        const docLinkHtml = 'Like what you see? Visit the ' +\n",
              "          '<a target=\"_blank\" href=https://colab.research.google.com/notebooks/data_table.ipynb>data table notebook</a>'\n",
              "          + ' to learn more about interactive tables.';\n",
              "        element.innerHTML = '';\n",
              "        dataTable['output_type'] = 'display_data';\n",
              "        await google.colab.output.renderOutput(dataTable, element);\n",
              "        const docLink = document.createElement('div');\n",
              "        docLink.innerHTML = docLinkHtml;\n",
              "        element.appendChild(docLink);\n",
              "      }\n",
              "    </script>\n",
              "  </div>\n",
              "\n",
              "\n",
              "<div id=\"df-126b623a-dab7-48ce-9531-0b41914f93bb\">\n",
              "  <button class=\"colab-df-quickchart\" onclick=\"quickchart('df-126b623a-dab7-48ce-9531-0b41914f93bb')\"\n",
              "            title=\"Suggest charts\"\n",
              "            style=\"display:none;\">\n",
              "\n",
              "<svg xmlns=\"http://www.w3.org/2000/svg\" height=\"24px\"viewBox=\"0 0 24 24\"\n",
              "     width=\"24px\">\n",
              "    <g>\n",
              "        <path d=\"M19 3H5c-1.1 0-2 .9-2 2v14c0 1.1.9 2 2 2h14c1.1 0 2-.9 2-2V5c0-1.1-.9-2-2-2zM9 17H7v-7h2v7zm4 0h-2V7h2v10zm4 0h-2v-4h2v4z\"/>\n",
              "    </g>\n",
              "</svg>\n",
              "  </button>\n",
              "\n",
              "<style>\n",
              "  .colab-df-quickchart {\n",
              "      --bg-color: #E8F0FE;\n",
              "      --fill-color: #1967D2;\n",
              "      --hover-bg-color: #E2EBFA;\n",
              "      --hover-fill-color: #174EA6;\n",
              "      --disabled-fill-color: #AAA;\n",
              "      --disabled-bg-color: #DDD;\n",
              "  }\n",
              "\n",
              "  [theme=dark] .colab-df-quickchart {\n",
              "      --bg-color: #3B4455;\n",
              "      --fill-color: #D2E3FC;\n",
              "      --hover-bg-color: #434B5C;\n",
              "      --hover-fill-color: #FFFFFF;\n",
              "      --disabled-bg-color: #3B4455;\n",
              "      --disabled-fill-color: #666;\n",
              "  }\n",
              "\n",
              "  .colab-df-quickchart {\n",
              "    background-color: var(--bg-color);\n",
              "    border: none;\n",
              "    border-radius: 50%;\n",
              "    cursor: pointer;\n",
              "    display: none;\n",
              "    fill: var(--fill-color);\n",
              "    height: 32px;\n",
              "    padding: 0;\n",
              "    width: 32px;\n",
              "  }\n",
              "\n",
              "  .colab-df-quickchart:hover {\n",
              "    background-color: var(--hover-bg-color);\n",
              "    box-shadow: 0 1px 2px rgba(60, 64, 67, 0.3), 0 1px 3px 1px rgba(60, 64, 67, 0.15);\n",
              "    fill: var(--button-hover-fill-color);\n",
              "  }\n",
              "\n",
              "  .colab-df-quickchart-complete:disabled,\n",
              "  .colab-df-quickchart-complete:disabled:hover {\n",
              "    background-color: var(--disabled-bg-color);\n",
              "    fill: var(--disabled-fill-color);\n",
              "    box-shadow: none;\n",
              "  }\n",
              "\n",
              "  .colab-df-spinner {\n",
              "    border: 2px solid var(--fill-color);\n",
              "    border-color: transparent;\n",
              "    border-bottom-color: var(--fill-color);\n",
              "    animation:\n",
              "      spin 1s steps(1) infinite;\n",
              "  }\n",
              "\n",
              "  @keyframes spin {\n",
              "    0% {\n",
              "      border-color: transparent;\n",
              "      border-bottom-color: var(--fill-color);\n",
              "      border-left-color: var(--fill-color);\n",
              "    }\n",
              "    20% {\n",
              "      border-color: transparent;\n",
              "      border-left-color: var(--fill-color);\n",
              "      border-top-color: var(--fill-color);\n",
              "    }\n",
              "    30% {\n",
              "      border-color: transparent;\n",
              "      border-left-color: var(--fill-color);\n",
              "      border-top-color: var(--fill-color);\n",
              "      border-right-color: var(--fill-color);\n",
              "    }\n",
              "    40% {\n",
              "      border-color: transparent;\n",
              "      border-right-color: var(--fill-color);\n",
              "      border-top-color: var(--fill-color);\n",
              "    }\n",
              "    60% {\n",
              "      border-color: transparent;\n",
              "      border-right-color: var(--fill-color);\n",
              "    }\n",
              "    80% {\n",
              "      border-color: transparent;\n",
              "      border-right-color: var(--fill-color);\n",
              "      border-bottom-color: var(--fill-color);\n",
              "    }\n",
              "    90% {\n",
              "      border-color: transparent;\n",
              "      border-bottom-color: var(--fill-color);\n",
              "    }\n",
              "  }\n",
              "</style>\n",
              "\n",
              "  <script>\n",
              "    async function quickchart(key) {\n",
              "      const quickchartButtonEl =\n",
              "        document.querySelector('#' + key + ' button');\n",
              "      quickchartButtonEl.disabled = true;  // To prevent multiple clicks.\n",
              "      quickchartButtonEl.classList.add('colab-df-spinner');\n",
              "      try {\n",
              "        const charts = await google.colab.kernel.invokeFunction(\n",
              "            'suggestCharts', [key], {});\n",
              "      } catch (error) {\n",
              "        console.error('Error during call to suggestCharts:', error);\n",
              "      }\n",
              "      quickchartButtonEl.classList.remove('colab-df-spinner');\n",
              "      quickchartButtonEl.classList.add('colab-df-quickchart-complete');\n",
              "    }\n",
              "    (() => {\n",
              "      let quickchartButtonEl =\n",
              "        document.querySelector('#df-126b623a-dab7-48ce-9531-0b41914f93bb button');\n",
              "      quickchartButtonEl.style.display =\n",
              "        google.colab.kernel.accessAllowed ? 'block' : 'none';\n",
              "    })();\n",
              "  </script>\n",
              "</div>\n",
              "    </div>\n",
              "  </div>\n"
            ],
            "application/vnd.google.colaboratory.intrinsic+json": {
              "type": "dataframe",
              "variable_name": "df",
              "summary": "{\n  \"name\": \"df\",\n  \"rows\": 500,\n  \"fields\": [\n    {\n      \"column\": \"standard deviation\",\n      \"properties\": {\n        \"dtype\": \"number\",\n        \"std\": 0.12865009453990717,\n        \"min\": 0.04317776676936148,\n        \"max\": 0.35432706148886006,\n        \"num_unique_values\": 499,\n        \"samples\": [\n          0.290299773082893,\n          0.06298989036129189,\n          0.04588164709709935\n        ],\n        \"semantic_type\": \"\",\n        \"description\": \"\"\n      }\n    },\n    {\n      \"column\": \"peak\",\n      \"properties\": {\n        \"dtype\": \"number\",\n        \"std\": 0.5143206240499759,\n        \"min\": 0.11494707692307692,\n        \"max\": 1.3225468263473052,\n        \"num_unique_values\": 10,\n        \"samples\": [\n          1.3225468263473052,\n          0.173568,\n          0.12350030769230769\n        ],\n        \"semantic_type\": \"\",\n        \"description\": \"\"\n      }\n    },\n    {\n      \"column\": \"skewness\",\n      \"properties\": {\n        \"dtype\": \"number\",\n        \"std\": 0.11939597013985714,\n        \"min\": -0.20534429809145172,\n        \"max\": 0.25928190876700563,\n        \"num_unique_values\": 500,\n        \"samples\": [\n          0.1379971575045883,\n          -0.010383541228964014,\n          0.07532318715574979\n        ],\n        \"semantic_type\": \"\",\n        \"description\": \"\"\n      }\n    },\n    {\n      \"column\": \"mean\",\n      \"properties\": {\n        \"dtype\": \"number\",\n        \"std\": 0.005539277089326792,\n        \"min\": -0.0020190686626746523,\n        \"max\": 0.021188021538461537,\n        \"num_unique_values\": 496,\n        \"samples\": [\n          0.003999965069860276,\n          0.009477396923076921,\n          0.01253569846153846\n        ],\n        \"semantic_type\": \"\",\n        \"description\": \"\"\n      }\n    },\n    {\n      \"column\": \"absolute mean\",\n      \"properties\": {\n        \"dtype\": \"number\",\n        \"std\": 0.08678000781789645,\n        \"min\": 0.037188821538461536,\n        \"max\": 0.24900087125748502,\n        \"num_unique_values\": 495,\n        \"samples\": [\n          0.20803310718562876,\n          0.04877844923076923,\n          0.20757666447105788\n        ],\n        \"semantic_type\": \"\",\n        \"description\": \"\"\n      }\n    },\n    {\n      \"column\": \"root mean square\",\n      \"properties\": {\n        \"dtype\": \"number\",\n        \"std\": 0.12741196963686544,\n        \"min\": 0.045585242196474536,\n        \"max\": 0.35347097416754075,\n        \"num_unique_values\": 500,\n        \"samples\": [\n          0.3523985178707581,\n          0.06335379440065132,\n          0.34358729537006466\n        ],\n        \"semantic_type\": \"\",\n        \"description\": \"\"\n      }\n    },\n    {\n      \"column\": \"square root mean\",\n      \"properties\": {\n        \"dtype\": \"number\",\n        \"std\": 0.06727492300421632,\n        \"min\": 0.03197683962279343,\n        \"max\": 0.1952852621174754,\n        \"num_unique_values\": 500,\n        \"samples\": [\n          0.1929120220067283,\n          0.03968757221377868,\n          0.18669267497771252\n        ],\n        \"semantic_type\": \"\",\n        \"description\": \"\"\n      }\n    },\n    {\n      \"column\": \"kurtosis\",\n      \"properties\": {\n        \"dtype\": \"number\",\n        \"std\": 1.3932879250761108,\n        \"min\": -0.7291640152518655,\n        \"max\": 4.246545618938101,\n        \"num_unique_values\": 500,\n        \"samples\": [\n          1.9922321139821246,\n          0.31700417983159257,\n          2.2913553455167435\n        ],\n        \"semantic_type\": \"\",\n        \"description\": \"\"\n      }\n    },\n    {\n      \"column\": \"crest factor\",\n      \"properties\": {\n        \"dtype\": \"number\",\n        \"std\": 0.6006944600275068,\n        \"min\": 2.3069865978783035,\n        \"max\": 4.5106640685255845,\n        \"num_unique_values\": 500,\n        \"samples\": [\n          3.75298634721372,\n          2.838448166201909,\n          3.8492308771860757\n        ],\n        \"semantic_type\": \"\",\n        \"description\": \"\"\n      }\n    },\n    {\n      \"column\": \"clearance factor\",\n      \"properties\": {\n        \"dtype\": \"number\",\n        \"std\": 1.5188223908913878,\n        \"min\": 3.3166269113974964,\n        \"max\": 8.607415463086328,\n        \"num_unique_values\": 500,\n        \"samples\": [\n          6.855699362796467,\n          4.531052203692862,\n          7.084085256720392\n        ],\n        \"semantic_type\": \"\",\n        \"description\": \"\"\n      }\n    },\n    {\n      \"column\": \"peak to peak\",\n      \"properties\": {\n        \"dtype\": \"number\",\n        \"std\": 0.995510425657961,\n        \"min\": 0.2046516923076923,\n        \"max\": 2.480221996007984,\n        \"num_unique_values\": 18,\n        \"samples\": [\n          0.3554806153846154,\n          0.3327415384615384,\n          0.2453316923076923\n        ],\n        \"semantic_type\": \"\",\n        \"description\": \"\"\n      }\n    },\n    {\n      \"column\": \"shape factor\",\n      \"properties\": {\n        \"dtype\": \"number\",\n        \"std\": 0.0867768946686064,\n        \"min\": 1.212908462622244,\n        \"max\": 1.4867005130698256,\n        \"num_unique_values\": 500,\n        \"samples\": [\n          1.4271060332160286,\n          1.3066024203710638,\n          1.437668820166144\n        ],\n        \"semantic_type\": \"\",\n        \"description\": \"\"\n      }\n    },\n    {\n      \"column\": \"impact factor\",\n      \"properties\": {\n        \"dtype\": \"number\",\n        \"std\": 0.0867768946686064,\n        \"min\": 1.212908462622244,\n        \"max\": 1.4867005130698256,\n        \"num_unique_values\": 500,\n        \"samples\": [\n          1.4271060332160286,\n          1.3066024203710638,\n          1.437668820166144\n        ],\n        \"semantic_type\": \"\",\n        \"description\": \"\"\n      }\n    },\n    {\n      \"column\": \"impulse factor\",\n      \"properties\": {\n        \"dtype\": \"number\",\n        \"std\": 0.15824187305462362,\n        \"min\": 0.0005772468532029444,\n        \"max\": 0.45316229782487444,\n        \"num_unique_values\": 498,\n        \"samples\": [\n          0.021115700075620986,\n          0.19369830306131147,\n          0.3176038657776098\n        ],\n        \"semantic_type\": \"\",\n        \"description\": \"\"\n      }\n    },\n    {\n      \"column\": \"label\",\n      \"properties\": {\n        \"dtype\": \"int8\",\n        \"num_unique_values\": 2,\n        \"samples\": [\n          1,\n          0\n        ],\n        \"semantic_type\": \"\",\n        \"description\": \"\"\n      }\n    }\n  ]\n}"
            }
          },
          "metadata": {},
          "execution_count": 111
        }
      ],
      "source": [
        "# Create dataframe for normal data ( Normal data label ---> 0 )\n",
        "df_normal = pd.DataFrame(normal_features.features)\n",
        "df_normal['label'] = np.zeros((df_normal.shape[0],), dtype='int8')\n",
        "# Create dataframe for faulty data ( Fault data label --> 1 )\n",
        "df_fault = pd.DataFrame(fault_features.features)\n",
        "df_fault['label'] = np.ones((df_fault.shape[0],), dtype='int8')\n",
        "\n",
        "# Stacking both datasets\n",
        "df = pd.concat ([df_normal, df_fault], ignore_index=True)\n",
        "df.head()"
      ]
    },
    {
      "cell_type": "markdown",
      "metadata": {
        "id": "8iNA0xNiCZPk"
      },
      "source": [
        "### 2-2-3: Shuffling data"
      ]
    },
    {
      "cell_type": "code",
      "execution_count": null,
      "metadata": {
        "id": "BEaNr4H898Jw"
      },
      "outputs": [],
      "source": [
        "from sklearn.model_selection import train_test_split"
      ]
    },
    {
      "cell_type": "code",
      "execution_count": null,
      "metadata": {
        "colab": {
          "base_uri": "https://localhost:8080/"
        },
        "id": "PsnjjF--DoD1",
        "outputId": "f7abf08a-05c2-4d3f-f69a-61f01bb422e5"
      },
      "outputs": [
        {
          "output_type": "stream",
          "name": "stdout",
          "text": [
            "The split rate is: Train 0.8 & Test 0.2\n",
            "Size of Train data is:\n",
            "X --> (400, 14)\n",
            "y --> (400,)\n",
            "Size of Test data is:\n",
            "X --> (100, 14)\n",
            "y --> (100,)\n"
          ]
        }
      ],
      "source": [
        "x_train, x_test, y_train, y_test = train_test_split(\n",
        "    df.drop('label', axis=1, inplace=False).values,\n",
        "    df.label.values,\n",
        "    test_size = 0.2,\n",
        "    shuffle = True,\n",
        "    random_state = 69\n",
        ")\n",
        "print(f'The split rate is: Train {len(y_train)/(len(y_train)+len(y_test))} & Test {len(y_test)/(len(y_train)+len(y_test))}')\n",
        "print(f'Size of Train data is:\\nX --> {x_train.shape}\\ny --> {y_train.shape}')\n",
        "print(f'Size of Test data is:\\nX --> {x_test.shape}\\ny --> {y_test.shape}')"
      ]
    },
    {
      "cell_type": "markdown",
      "metadata": {
        "id": "c7QE86ltONSz"
      },
      "source": [
        "### 2-2-4: Normalization"
      ]
    },
    {
      "cell_type": "code",
      "execution_count": null,
      "metadata": {
        "id": "qLC33immEb4x"
      },
      "outputs": [],
      "source": [
        "from sklearn.preprocessing import StandardScaler"
      ]
    },
    {
      "cell_type": "code",
      "execution_count": null,
      "metadata": {
        "id": "0TlKPF84OM2n"
      },
      "outputs": [],
      "source": [
        "scaler = StandardScaler()\n",
        "scaler.fit(x_train)\n",
        "x_train_scaled = scaler.transform(x_train)\n",
        "x_test_scaled = scaler.transform(x_test)"
      ]
    },
    {
      "cell_type": "markdown",
      "metadata": {
        "id": "OPIbp39afHAz"
      },
      "source": [
        "## 2-3:  Logistic Regression from scratch"
      ]
    },
    {
      "cell_type": "code",
      "source": [
        "class LogisticRegression:\n",
        "\n",
        "    def __init__(self, n_iter=10, learning_rate=0.01, random_state=None):\n",
        "        self.n_iter = n_iter\n",
        "        self.eta = learning_rate\n",
        "        np.random.seed(random_state)\n",
        "\n",
        "    def _weight_init(self):\n",
        "        self.w = np.random.rand(14)*0\n",
        "        self.b = np.random.rand()\n",
        "\n",
        "    def _update(self,x,E):\n",
        "        dj = np.dot(x.T,E)\n",
        "        self.w += self.eta*dj\n",
        "        self.b += self.eta*np.sum(E)\n",
        "\n",
        "    def forward(self,x):\n",
        "        z = np.dot(x,self.w) + self.b\n",
        "        a = 1/(1+np.e**(-z))\n",
        "        y_hat = np.array([1 if hat>.5 else 0 for hat in a])\n",
        "        return y_hat\n",
        "\n",
        "    def error(self,predict,true):\n",
        "        E = true - predict\n",
        "        e = 1/len(true) * np.dot(E,E)\n",
        "        return E,e\n",
        "\n",
        "    def train(self,x,y):\n",
        "        self._weight_init()\n",
        "        self.loss = []\n",
        "        for iter in range(self.n_iter):\n",
        "\n",
        "            y_hat = self.forward(x)\n",
        "            E,e = self.error(y_hat,y)\n",
        "            self.loss.append(e)\n",
        "            self._update(x,E)\n",
        "\n",
        "# Train model with data\n",
        "model = LogisticRegression(\n",
        "    n_iter = 100,\n",
        "    learning_rate =0.0001,\n",
        "    random_state = 25\n",
        ")\n",
        "model.train(x_train_scaled,y_train)\n"
      ],
      "metadata": {
        "id": "S2D1LtlM-_iM"
      },
      "execution_count": null,
      "outputs": []
    },
    {
      "cell_type": "code",
      "source": [
        "# Plot loss\n",
        "plt.plot(model.loss)\n",
        "plt.title('Error per epoch')\n",
        "plt.ylabel('Error')\n",
        "plt.xlabel('Iteration')"
      ],
      "metadata": {
        "colab": {
          "base_uri": "https://localhost:8080/",
          "height": 489
        },
        "id": "GXGg6ZKeBtBC",
        "outputId": "744a9054-8f00-4307-e00c-7ff280ef462a"
      },
      "execution_count": null,
      "outputs": [
        {
          "output_type": "execute_result",
          "data": {
            "text/plain": [
              "Text(0.5, 0, 'Iteration')"
            ]
          },
          "metadata": {},
          "execution_count": 117
        },
        {
          "output_type": "display_data",
          "data": {
            "text/plain": [
              "<Figure size 640x480 with 1 Axes>"
            ],
            "image/png": "[encoded data removed]"
          },
          "metadata": {}
        }
      ]
    },
    {
      "cell_type": "markdown",
      "source": [
        "Evaluating the trained model"
      ],
      "metadata": {
        "id": "SRxQ746yLBIK"
      }
    },
    {
      "cell_type": "code",
      "source": [
        "# Predict test values\n",
        "y_hat = model.forward(x_test_scaled)\n",
        "\n",
        "# Confusion matrix\n",
        "TP = np.sum(y_hat[y_test==1])\n",
        "TN = np.sum(np.abs(y_hat[y_test==0]-1))\n",
        "FP = np.sum(y_hat[y_test==0])\n",
        "FN = np.sum(np.abs(y_hat[y_test==1]-1))\n",
        "\n",
        "# Accuracy\n",
        "accuracy = (TP+TN)/len(y_test)\n",
        "print(f'Accuracy on test data is {accuracy*100:.1f}%')\n",
        "\n",
        "# F1-score\n",
        "precision = TP / (TP+FP)\n",
        "recall = TP / (TP+FN)\n",
        "f1_score = 2 * (precision*recall)   /(precision+recall)\n",
        "print(f'F1-score on test data is {f1_score*100:.1f}% ')\n",
        "\n"
      ],
      "metadata": {
        "colab": {
          "base_uri": "https://localhost:8080/"
        },
        "id": "ItsMVxf6D0L5",
        "outputId": "481234b0-59b8-4907-979a-034c7e05a69b"
      },
      "execution_count": null,
      "outputs": [
        {
          "output_type": "stream",
          "name": "stdout",
          "text": [
            "Accuracy on test data is 100.0%\n",
            "F1-score on test data is 100.0% \n"
          ]
        }
      ]
    },
    {
      "cell_type": "markdown",
      "source": [
        "## 2-4: scikit-learn model"
      ],
      "metadata": {
        "id": "TdM1Ko93aww8"
      }
    },
    {
      "cell_type": "code",
      "source": [
        "from sklearn.linear_model import SGDClassifier\n",
        "\n",
        "class SGDwithLoss(SGDClassifier):\n",
        "    def __init__(self):\n",
        "        super().__init__()\n",
        "        self.loss_history = []\n",
        "\n",
        "    def partial_fit(self, X, y, classes=None, sample_weight=None):\n",
        "\n",
        "        super().partial_fit(X, y, classes=classes, sample_weight=sample_weight)\n",
        "        y_hat  = self.predict(X)\n",
        "        error =  y_hat-y\n",
        "        loss = 1/len(y) *  np.dot(error,error)\n",
        "        self.loss_history.append(loss)"
      ],
      "metadata": {
        "id": "fHPGduBgM3Ct"
      },
      "execution_count": null,
      "outputs": []
    },
    {
      "cell_type": "code",
      "source": [
        "sgd_model = SGDwithLoss()\n",
        "\n",
        "# Train model partialy\n",
        "N_ITERATION = 15\n",
        "sgd_loss = []\n",
        "for i in range(N_ITERATION):\n",
        "\n",
        "    sgd_model.partial_fit(x_train_scaled,y_train, classes=np.unique(y_train))\n",
        "plt.plot(sgd_model.loss_history)\n",
        "\n",
        "plt.title('Error per epoch')\n",
        "plt.ylabel('Error')\n",
        "plt.xlabel('Iteration')"
      ],
      "metadata": {
        "colab": {
          "base_uri": "https://localhost:8080/",
          "height": 489
        },
        "id": "SvQW-dj0NTTd",
        "outputId": "798611fb-bbe9-46e1-f41f-067fa4c21384"
      },
      "execution_count": null,
      "outputs": [
        {
          "output_type": "execute_result",
          "data": {
            "text/plain": [
              "Text(0.5, 0, 'Iteration')"
            ]
          },
          "metadata": {},
          "execution_count": 165
        },
        {
          "output_type": "display_data",
          "data": {
            "text/plain": [
              "<Figure size 640x480 with 1 Axes>"
            ],
            "image/png": "[encoded data removed]"
          },
          "metadata": {}
        }
      ]
    },
    {
      "cell_type": "code",
      "source": [
        "# Predict test values\n",
        "y_hat = sgd_model.predict(x_test_scaled)\n",
        "\n",
        "# Confusion matrix\n",
        "TP = np.sum(y_hat[y_test==1])\n",
        "TN = np.sum(np.abs(y_hat[y_test==0]-1))\n",
        "FP = np.sum(y_hat[y_test==0])\n",
        "FN = np.sum(np.abs(y_hat[y_test==1]-1))\n",
        "\n",
        "# Accuracy\n",
        "accuracy = (TP+TN)/len(y_test)\n",
        "print(f'Accuracy on test data is {accuracy*100:.1f}%')\n",
        "\n",
        "# F1-score\n",
        "precision = TP / (TP+FP)\n",
        "recall = TP / (TP+FN)\n",
        "f1_score = 2 * (precision*recall)   /(precision+recall)\n",
        "print(f'F1-score on test data is {f1_score*100:.1f}% ')\n",
        "\n"
      ],
      "metadata": {
        "colab": {
          "base_uri": "https://localhost:8080/"
        },
        "id": "MrXKpfi5cNxP",
        "outputId": "56792676-de38-4b1a-a380-8202f2f07e94"
      },
      "execution_count": null,
      "outputs": [
        {
          "output_type": "stream",
          "name": "stdout",
          "text": [
            "Accuracy on test data is 100.0%\n",
            "F1-score on test data is 100.0% \n"
          ]
        }
      ]
    },
    {
      "cell_type": "code",
      "source": [],
      "metadata": {
        "colab": {
          "base_uri": "https://localhost:8080/",
          "height": 447
        },
        "id": "NOAwkV7UeRz5",
        "outputId": "b05b8464-3718-45c9-ef3f-2179c2947d29"
      },
      "execution_count": null,
      "outputs": [
        {
          "output_type": "execute_result",
          "data": {
            "text/plain": [
              "[<matplotlib.lines.Line2D at 0x79b9bd573a90>]"
            ]
          },
          "metadata": {},
          "execution_count": 125
        },
        {
          "output_type": "display_data",
          "data": {
            "text/plain": [
              "<Figure size 640x480 with 1 Axes>"
            ],
            "image/png": "[encoded data removed]"
          },
          "metadata": {}
        }
      ]
    }
  ],
  "metadata": {
    "colab": {
      "provenance": []
    },
    "kernelspec": {
      "display_name": "Python 3",
      "name": "python3"
    },
    "language_info": {
      "name": "python"
    }
  },
  "nbformat": 4,
  "nbformat_minor": 0
}