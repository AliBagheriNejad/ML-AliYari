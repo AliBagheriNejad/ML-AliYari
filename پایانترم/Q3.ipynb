{
  "nbformat": 4,
  "nbformat_minor": 0,
  "metadata": {
    "colab": {
      "provenance": []
    },
    "kernelspec": {
      "name": "python3",
      "display_name": "Python 3"
    },
    "language_info": {
      "name": "python"
    }
  },
  "cells": [
    {
      "cell_type": "code",
      "execution_count": 10,
      "metadata": {
        "colab": {
          "base_uri": "https://localhost:8080/"
        },
        "id": "BLN8dzHwxiP9",
        "outputId": "39993a4f-80dd-4db3-8c78-2d25e88e4ae3"
      },
      "outputs": [
        {
          "output_type": "stream",
          "name": "stdout",
          "text": [
            "Learned policy:\n",
            "A1: right\n",
            "A2: right\n",
            "A3: right\n",
            "A4: up\n",
            "B1: up\n",
            "B2: up\n",
            "B3: up\n",
            "B4: up\n",
            "C1: up\n",
            "C2: right\n",
            "C3: up\n",
            "C4: left\n"
          ]
        }
      ],
      "source": [
        "import numpy as np\n",
        "import random\n",
        "\n",
        "# Define the grid world environment\n",
        "class GridWorld:\n",
        "    def __init__(self):\n",
        "        self.grid = [['A1', 'A2', 'A3', 'A4'],\n",
        "                     ['B1', 'B2', 'B3', 'B4'],\n",
        "                     ['C1', 'C2', 'C3', 'C4']]\n",
        "        self.terminal_states = {'A4': 10, 'B4': -10}\n",
        "        self.blocked_states = {'B2' }\n",
        "        self.actions = ['up', 'down', 'left', 'right']\n",
        "        self.state = 'C4'\n",
        "\n",
        "    def reset(self, start_state=None):\n",
        "        if start_state is not None:\n",
        "            self.state = start_state\n",
        "        else:\n",
        "            self.state = 'C4'\n",
        "        return self.state\n",
        "\n",
        "    def step(self, action):\n",
        "        row, col = self.state\n",
        "        if action == 'up' and row > 'A':\n",
        "            next_state = chr(ord(row) - 1) + col\n",
        "        elif action == 'down' and row < 'C':\n",
        "            next_state = chr(ord(row) + 1) + col\n",
        "        elif action == 'left' and col > '1':\n",
        "            next_state = row + chr(ord(col) - 1)\n",
        "        elif action == 'right' and col < '4':\n",
        "            next_state = row + chr(ord(col) + 1)\n",
        "        else:\n",
        "            next_state = self.state\n",
        "\n",
        "        if next_state in self.blocked_states:\n",
        "            next_state = self.state\n",
        "\n",
        "        self.state = next_state\n",
        "        reward = self.terminal_states.get(next_state, 0)\n",
        "        done = next_state in self.terminal_states\n",
        "        return next_state, reward, done\n",
        "\n",
        "# Q-learning parameters\n",
        "alpha = 0.1\n",
        "gamma = 0.9\n",
        "epsilon = 0.1\n",
        "episodes = 1000\n",
        "\n",
        "# Initialize Q-table\n",
        "Q = {}\n",
        "for row in ['A', 'B', 'C']:\n",
        "    for col in ['1', '2', '3', '4']:\n",
        "        state = row + col\n",
        "        Q[state] = {a: 0 for a in ['up', 'down', 'left', 'right']}\n",
        "\n",
        "env = GridWorld()\n",
        "\n",
        "for episode in range(episodes):\n",
        "    state = env.reset()\n",
        "    done = False\n",
        "    while not done:\n",
        "        if random.uniform(0, 1) < epsilon:\n",
        "            action = random.choice(env.actions)\n",
        "        else:\n",
        "            action = max(Q[state], key=Q[state].get)\n",
        "\n",
        "        next_state, reward, done = env.step(action)\n",
        "\n",
        "        old_value = Q[state][action]\n",
        "        next_max = max(Q[next_state].values())\n",
        "\n",
        "        Q[state][action] = old_value + alpha * (reward + gamma * next_max - old_value)\n",
        "\n",
        "        state = next_state\n",
        "\n",
        "# Extract the policy\n",
        "policy = {}\n",
        "for state in Q:\n",
        "    policy[state] = max(Q[state], key=Q[state].get)\n",
        "\n",
        "print(\"Learned policy:\")\n",
        "for row in ['A', 'B', 'C']:\n",
        "    for col in ['1', '2', '3', '4']:\n",
        "        state = row + col\n",
        "        if state in policy:\n",
        "            print(f\"{state}: {policy[state]}\")\n"
      ]
    },
    {
      "cell_type": "code",
      "source": [
        "# Define the specific path\n",
        "path1 = ['A1','A2', 'A3', 'B3', 'B4']\n",
        "path2 = ['C2', 'C1', 'B1', 'A1', 'A2', 'A3', 'A4']\n",
        "path3 = ['C4', 'C3', 'B3','A3', 'A4']\n",
        "\n",
        "all_path = [path1, path2,path3]\n",
        "\n",
        "# Function to calculate the total value for the specified path\n",
        "def calculate_path_value(path, Q):\n",
        "    total_value = 0\n",
        "    for i in range(len(path) - 1):\n",
        "        state = path[i]\n",
        "        next_state = path[i + 1]\n",
        "\n",
        "        # Find the action that leads to the next state\n",
        "        action = None\n",
        "        for a in Q[state]:\n",
        "            env.state = state\n",
        "            resulting_state, _, _ = env.step(a)\n",
        "            if resulting_state == next_state:\n",
        "                action = a\n",
        "                break\n",
        "\n",
        "        if action is None:\n",
        "            raise ValueError(f\"No valid action from {state} to {next_state} in the path\")\n",
        "            # action = 2\n",
        "\n",
        "        # Add the Q-value of the action to the total value\n",
        "        total_value += Q[state][action]\n",
        "\n",
        "    return total_value\n",
        "\n",
        "# Calculate the total value for the specified path\n",
        "for i,path in enumerate(all_path):\n",
        "    path_value = calculate_path_value(path, Q)\n",
        "    print(f\"Total value for path ({path}) is {path_value:0.3f}\")\n"
      ],
      "metadata": {
        "colab": {
          "base_uri": "https://localhost:8080/"
        },
        "id": "__gU1MaYyrRy",
        "outputId": "4a494944-e4cd-4593-f085-1db6805b55b5"
      },
      "execution_count": 16,
      "outputs": [
        {
          "output_type": "stream",
          "name": "stdout",
          "text": [
            "Total value for path (['A1', 'A2', 'A3', 'B3', 'B4']) is 8.163\n",
            "Total value for path (['C2', 'C1', 'B1', 'A1', 'A2', 'A3', 'A4']) is 20.085\n",
            "Total value for path (['C4', 'C3', 'B3', 'A3', 'A4']) is 34.390\n"
          ]
        }
      ]
    }
  ]
}